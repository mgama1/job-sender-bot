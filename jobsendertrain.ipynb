{
 "cells": [
  {
   "cell_type": "code",
   "execution_count": 4,
   "id": "900f97bb-e249-4b15-bbc7-29fb2c7b7618",
   "metadata": {},
   "outputs": [],
   "source": [
    "import re\n",
    "import pandas as pd\n",
    "import numpy as np\n",
    "import re\n",
    "import wordsegment\n",
    "from wordsegment import load, segment\n",
    "load()\n",
    "import fasttext\n",
    "model = fasttext.load_model(\"name_gender_model.bin\")\n"
   ]
  },
  {
   "cell_type": "code",
   "execution_count": 59,
   "id": "d94c2daa-52e3-4dab-947b-3bc0cd7a7da2",
   "metadata": {},
   "outputs": [],
   "source": [
    "import seaborn as sns"
   ]
  },
  {
   "cell_type": "code",
   "execution_count": null,
   "id": "ebf603cf-8940-4dff-86a9-ed23128ff1ac",
   "metadata": {},
   "outputs": [],
   "source": []
  },
  {
   "cell_type": "code",
   "execution_count": 42,
   "id": "5e15d317-cc5c-4858-ace7-ba1e0a511b77",
   "metadata": {},
   "outputs": [
    {
     "data": {
      "text/html": [
       "<div>\n",
       "<style scoped>\n",
       "    .dataframe tbody tr th:only-of-type {\n",
       "        vertical-align: middle;\n",
       "    }\n",
       "\n",
       "    .dataframe tbody tr th {\n",
       "        vertical-align: top;\n",
       "    }\n",
       "\n",
       "    .dataframe thead th {\n",
       "        text-align: right;\n",
       "    }\n",
       "</style>\n",
       "<table border=\"1\" class=\"dataframe\">\n",
       "  <thead>\n",
       "    <tr style=\"text-align: right;\">\n",
       "      <th></th>\n",
       "      <th>Name</th>\n",
       "      <th>Gender</th>\n",
       "    </tr>\n",
       "  </thead>\n",
       "  <tbody>\n",
       "    <tr>\n",
       "      <th>0</th>\n",
       "      <td>safwah</td>\n",
       "      <td>Female</td>\n",
       "    </tr>\n",
       "    <tr>\n",
       "      <th>1</th>\n",
       "      <td>naveed</td>\n",
       "      <td>Male</td>\n",
       "    </tr>\n",
       "    <tr>\n",
       "      <th>2</th>\n",
       "      <td>zuhrah</td>\n",
       "      <td>Female</td>\n",
       "    </tr>\n",
       "    <tr>\n",
       "      <th>3</th>\n",
       "      <td>safuh</td>\n",
       "      <td>Male</td>\n",
       "    </tr>\n",
       "    <tr>\n",
       "      <th>4</th>\n",
       "      <td>naseemah</td>\n",
       "      <td>Female</td>\n",
       "    </tr>\n",
       "    <tr>\n",
       "      <th>...</th>\n",
       "      <td>...</td>\n",
       "      <td>...</td>\n",
       "    </tr>\n",
       "    <tr>\n",
       "      <th>5669</th>\n",
       "      <td>Nardeen</td>\n",
       "      <td>Female</td>\n",
       "    </tr>\n",
       "    <tr>\n",
       "      <th>5670</th>\n",
       "      <td>Bosy</td>\n",
       "      <td>Female</td>\n",
       "    </tr>\n",
       "    <tr>\n",
       "      <th>5671</th>\n",
       "      <td>Deena</td>\n",
       "      <td>Female</td>\n",
       "    </tr>\n",
       "    <tr>\n",
       "      <th>5672</th>\n",
       "      <td>Asia</td>\n",
       "      <td>Female</td>\n",
       "    </tr>\n",
       "    <tr>\n",
       "      <th>5673</th>\n",
       "      <td>Lili</td>\n",
       "      <td>Female</td>\n",
       "    </tr>\n",
       "  </tbody>\n",
       "</table>\n",
       "<p>5674 rows × 2 columns</p>\n",
       "</div>"
      ],
      "text/plain": [
       "          Name  Gender\n",
       "0       safwah  Female\n",
       "1       naveed    Male\n",
       "2       zuhrah  Female\n",
       "3        safuh    Male\n",
       "4     naseemah  Female\n",
       "...        ...     ...\n",
       "5669   Nardeen  Female\n",
       "5670      Bosy  Female\n",
       "5671     Deena  Female\n",
       "5672      Asia  Female\n",
       "5673      Lili  Female\n",
       "\n",
       "[5674 rows x 2 columns]"
      ]
     },
     "execution_count": 42,
     "metadata": {},
     "output_type": "execute_result"
    }
   ],
   "source": [
    "df=pd.read_csv('ARnames.csv')\n",
    "df"
   ]
  },
  {
   "cell_type": "code",
   "execution_count": 54,
   "id": "69c32004-4cb3-4433-bd29-9da892ea1df1",
   "metadata": {},
   "outputs": [],
   "source": [
    "df.drop_duplicates(inplace=True)"
   ]
  },
  {
   "cell_type": "code",
   "execution_count": 52,
   "id": "595fde50-9e5c-4a6e-b7c4-db9e6dbec7e9",
   "metadata": {},
   "outputs": [
    {
     "data": {
      "text/plain": [
       "Name      5659\n",
       "Gender       3\n",
       "dtype: int64"
      ]
     },
     "execution_count": 52,
     "metadata": {},
     "output_type": "execute_result"
    }
   ],
   "source": [
    "df.nunique()"
   ]
  },
  {
   "cell_type": "code",
   "execution_count": null,
   "id": "89d7f8df-e160-4448-8ded-7493057ee49c",
   "metadata": {},
   "outputs": [],
   "source": []
  },
  {
   "cell_type": "code",
   "execution_count": 40,
   "id": "99bb7ee3-b65f-47f6-abac-b448b4adc62b",
   "metadata": {},
   "outputs": [],
   "source": []
  },
  {
   "cell_type": "code",
   "execution_count": 41,
   "id": "def9025b-b55d-4430-97fc-e61158a959eb",
   "metadata": {},
   "outputs": [],
   "source": []
  },
  {
   "cell_type": "code",
   "execution_count": 31,
   "id": "ea954daa-29f5-4e74-86b9-4ffe4aa346fc",
   "metadata": {},
   "outputs": [
    {
     "data": {
      "text/html": [
       "<div>\n",
       "<style scoped>\n",
       "    .dataframe tbody tr th:only-of-type {\n",
       "        vertical-align: middle;\n",
       "    }\n",
       "\n",
       "    .dataframe tbody tr th {\n",
       "        vertical-align: top;\n",
       "    }\n",
       "\n",
       "    .dataframe thead th {\n",
       "        text-align: right;\n",
       "    }\n",
       "</style>\n",
       "<table border=\"1\" class=\"dataframe\">\n",
       "  <thead>\n",
       "    <tr style=\"text-align: right;\">\n",
       "      <th></th>\n",
       "      <th>Name</th>\n",
       "      <th>Gender</th>\n",
       "    </tr>\n",
       "  </thead>\n",
       "  <tbody>\n",
       "    <tr>\n",
       "      <th>1386</th>\n",
       "      <td>noor</td>\n",
       "      <td>Male</td>\n",
       "    </tr>\n",
       "    <tr>\n",
       "      <th>2528</th>\n",
       "      <td>hana</td>\n",
       "      <td>Female</td>\n",
       "    </tr>\n",
       "    <tr>\n",
       "      <th>2792</th>\n",
       "      <td>nusrat</td>\n",
       "      <td>Male</td>\n",
       "    </tr>\n",
       "    <tr>\n",
       "      <th>3033</th>\n",
       "      <td>nur</td>\n",
       "      <td>Female</td>\n",
       "    </tr>\n",
       "    <tr>\n",
       "      <th>3043</th>\n",
       "      <td>ala</td>\n",
       "      <td>Male</td>\n",
       "    </tr>\n",
       "    <tr>\n",
       "      <th>3369</th>\n",
       "      <td>shams</td>\n",
       "      <td>Female</td>\n",
       "    </tr>\n",
       "    <tr>\n",
       "      <th>3895</th>\n",
       "      <td>nibras</td>\n",
       "      <td>Female</td>\n",
       "    </tr>\n",
       "  </tbody>\n",
       "</table>\n",
       "</div>"
      ],
      "text/plain": [
       "        Name  Gender\n",
       "1386    noor    Male\n",
       "2528    hana  Female\n",
       "2792  nusrat    Male\n",
       "3033     nur  Female\n",
       "3043     ala    Male\n",
       "3369   shams  Female\n",
       "3895  nibras  Female"
      ]
     },
     "execution_count": 31,
     "metadata": {},
     "output_type": "execute_result"
    }
   ],
   "source": [
    "df[df.Name.duplicated()].head(40)"
   ]
  },
  {
   "cell_type": "code",
   "execution_count": null,
   "id": "f6484cc1-6c3e-4287-b3d4-e7ded05a2701",
   "metadata": {},
   "outputs": [],
   "source": [
    "df[df.Name=='amjad"
   ]
  },
  {
   "cell_type": "code",
   "execution_count": null,
   "id": "b9450bb7-7bb3-4285-91b0-894f754ff93d",
   "metadata": {},
   "outputs": [],
   "source": []
  },
  {
   "cell_type": "code",
   "execution_count": null,
   "id": "752d594f-14b1-446e-9311-c9d469621a2d",
   "metadata": {},
   "outputs": [],
   "source": []
  },
  {
   "cell_type": "code",
   "execution_count": 60,
   "id": "a6df84fb-e347-4af4-af00-73a8a79a665d",
   "metadata": {},
   "outputs": [
    {
     "data": {
      "text/plain": [
       "<Axes: xlabel='Gender', ylabel='count'>"
      ]
     },
     "execution_count": 60,
     "metadata": {},
     "output_type": "execute_result"
    },
    {
     "data": {
      "image/png": "[encoded data removed]",
      "text/plain": [
       "<Figure size 640x480 with 1 Axes>"
      ]
     },
     "metadata": {},
     "output_type": "display_data"
    }
   ],
   "source": [
    "sns.countplot(x=df.Gender)"
   ]
  },
  {
   "cell_type": "code",
   "execution_count": 61,
   "id": "fa7d5857-a689-4ca8-b641-586383a2aa05",
   "metadata": {},
   "outputs": [],
   "source": [
    "\n",
    "\n",
    "# Convert to FastText format\n",
    "df[\"FastText\"] = \"__label__\" + df[\"Gender\"] + \" \" + df[\"Name\"]\n",
    "\n",
    "# Save to a .txt file for training\n",
    "df[\"FastText\"].to_csv(\"names.txt\", index=False, header=False)\n"
   ]
  },
  {
   "cell_type": "code",
   "execution_count": 2,
   "id": "5b8ada60-c404-428c-8ce9-a6f40c10dc65",
   "metadata": {},
   "outputs": [
    {
     "ename": "ValueError",
     "evalue": "names.txt cannot be opened for training!",
     "output_type": "error",
     "traceback": [
      "\u001b[0;31m---------------------------------------------------------------------------\u001b[0m",
      "\u001b[0;31mValueError\u001b[0m                                Traceback (most recent call last)",
      "Cell \u001b[0;32mIn[2], line 2\u001b[0m\n\u001b[1;32m      1\u001b[0m \u001b[38;5;66;03m# Train the model\u001b[39;00m\n\u001b[0;32m----> 2\u001b[0m model \u001b[38;5;241m=\u001b[39m fasttext\u001b[38;5;241m.\u001b[39mtrain_supervised(\u001b[38;5;124m\"\u001b[39m\u001b[38;5;124mnames.txt\u001b[39m\u001b[38;5;124m\"\u001b[39m, epoch\u001b[38;5;241m=\u001b[39m\u001b[38;5;241m25\u001b[39m, wordNgrams\u001b[38;5;241m=\u001b[39m\u001b[38;5;241m1\u001b[39m, minn\u001b[38;5;241m=\u001b[39m\u001b[38;5;241m2\u001b[39m, maxn\u001b[38;5;241m=\u001b[39m\u001b[38;5;241m5\u001b[39m)\n\u001b[1;32m      4\u001b[0m \u001b[38;5;66;03m# Save the trained model\u001b[39;00m\n\u001b[1;32m      5\u001b[0m model\u001b[38;5;241m.\u001b[39msave_model(\u001b[38;5;124m\"\u001b[39m\u001b[38;5;124mname_gender_model.bin\u001b[39m\u001b[38;5;124m\"\u001b[39m)\n",
      "File \u001b[0;32m~/anaconda3/lib/python3.11/site-packages/fasttext/FastText.py:560\u001b[0m, in \u001b[0;36mtrain_supervised\u001b[0;34m(*kargs, **kwargs)\u001b[0m\n\u001b[1;32m    558\u001b[0m a \u001b[38;5;241m=\u001b[39m _build_args(args, manually_set_args)\n\u001b[1;32m    559\u001b[0m ft \u001b[38;5;241m=\u001b[39m _FastText(args\u001b[38;5;241m=\u001b[39ma)\n\u001b[0;32m--> 560\u001b[0m fasttext\u001b[38;5;241m.\u001b[39mtrain(ft\u001b[38;5;241m.\u001b[39mf, a)\n\u001b[1;32m    561\u001b[0m ft\u001b[38;5;241m.\u001b[39mset_args(ft\u001b[38;5;241m.\u001b[39mf\u001b[38;5;241m.\u001b[39mgetArgs())\n\u001b[1;32m    562\u001b[0m \u001b[38;5;28;01mreturn\u001b[39;00m ft\n",
      "\u001b[0;31mValueError\u001b[0m: names.txt cannot be opened for training!"
     ]
    }
   ],
   "source": [
    "\n",
    "# Train the model\n",
    "model = fasttext.train_supervised(\"names.txt\", epoch=25, wordNgrams=1, minn=2, maxn=5)\n",
    "\n",
    "# Save the trained model\n",
    "model.save_model(\"name_gender_model.bin\")\n"
   ]
  },
  {
   "cell_type": "code",
   "execution_count": 27,
   "id": "df991b7a-76a8-4b48-a412-48fef106ca39",
   "metadata": {},
   "outputs": [
    {
     "name": "stdout",
     "output_type": "stream",
     "text": [
      "mahmoud: Male (Confidence: 0.99)\n",
      "mahmood: Male (Confidence: 0.96)\n",
      "muhamaad: Male (Confidence: 1.00)\n",
      "mohab: Male (Confidence: 1.00)\n",
      "abdelrahman: Male (Confidence: 0.97)\n",
      "hager: Male (Confidence: 0.99)\n",
      "aya: Female (Confidence: 1.00)\n",
      "layla: Female (Confidence: 1.00)\n"
     ]
    }
   ],
   "source": [
    "# Load the trained model\n",
    "\n",
    "# Test predictions\n",
    "test_names = [\"mahmoud\", \"mahmood\", \"muhamaad\", \"mohab\", \"abdelrahman\",'hager','aya','layla']\n",
    "for name in test_names:\n",
    "    label, confidence = model.predict(name)\n",
    "    print(f\"{name}: {label[0].replace('__label__', '')} (Confidence: {confidence[0]:.2f})\")\n"
   ]
  },
  {
   "cell_type": "code",
   "execution_count": 8,
   "id": "ea3f6f87-af1e-4867-8ac7-62f3b302427f",
   "metadata": {},
   "outputs": [
    {
     "name": "stdout",
     "output_type": "stream",
     "text": [
      "abdelrahmantaha: Male (Confidence: 0.94)\n"
     ]
    }
   ],
   "source": [
    "name='abdelrahmantaha'\n",
    "label, confidence = model.predict(name)\n",
    "print(f\"{name}: {label[0].replace('__label__', '')} (Confidence: {confidence[0]:.2f})\")\n"
   ]
  },
  {
   "cell_type": "code",
   "execution_count": null,
   "id": "0fa170c2-c677-4d86-8018-8c9313cfea50",
   "metadata": {},
   "outputs": [],
   "source": []
  },
  {
   "cell_type": "code",
   "execution_count": null,
   "id": "619eeb7a-ff02-423a-a0f4-7c0d64c299ab",
   "metadata": {},
   "outputs": [],
   "source": []
  },
  {
   "cell_type": "code",
   "execution_count": null,
   "id": "fb581b2a-b13e-4e1c-a6dd-d19ef1fa2207",
   "metadata": {},
   "outputs": [],
   "source": []
  },
  {
   "cell_type": "code",
   "execution_count": 105,
   "id": "cbf06a78-df8b-411e-a0a0-502f0f162a99",
   "metadata": {},
   "outputs": [],
   "source": [
    "def get_greeting(input):\n",
    "    \n",
    "\n",
    "    email_pattern = r\"[a-zA-Z0-9._%+-]+@[a-zA-Z0-9.-]+\\.[a-zA-Z]{2,}\"\n",
    "    hr_keywords=['recruitment','career','talent','jobs','staff','hiring','hr','info','team','intern']\n",
    "    email = re.search(email_pattern, input).group()  \n",
    "    username=email.split('@')[0]\n",
    "    for keyword in hr_keywords:\n",
    "        if keyword in username.lower():\n",
    "            return 'To whom it may concern'\n",
    "            \n",
    "    first_name=segment(username)[0]\n",
    "    label, confidence = model.predict(first_name)\n",
    "    gender=label[0].replace('__label__', '')\n",
    "    pronouns={'Male':'Dear Mr. ','Female':'Dear Ms. '}\n",
    "    greeting=pronouns[gender]+first_name\n",
    "    \n",
    "    return greeting\n",
    "    "
   ]
  },
  {
   "cell_type": "code",
   "execution_count": 8,
   "id": "db4c01fe-b2ab-4227-959c-2216f1eb5c61",
   "metadata": {},
   "outputs": [],
   "source": [
    "input='''WE ARE HIRING!\n",
    "\n",
    "- Full-stack Developer ( Java & Angular ) l 3+ years of experience.\n",
    "- Sales Account Manager l 3+ years of experience. ( Banking OR Agriculture )\n",
    "- Senior Frontend React.js Developer l 4+ years of experience.\n",
    "- Junior Frontend React.js Developer l 1+ years of experience.\n",
    "- Junior QC Automation Engineer l 1+ years of experience.\n",
    "\n",
    "\n",
    "If you're interested please send your updated CV to Talentacquisition.eg@panda.com.sa with the job title in the subject.\n",
    "\n",
    "Good Luck to all applicants :)\n",
    "www.asset-technology.com\n",
    "title: ml engineer\n",
    "fdfdf'''"
   ]
  },
  {
   "cell_type": "code",
   "execution_count": 107,
   "id": "1ea17bf3-449b-46cc-ade1-7573baccbc87",
   "metadata": {},
   "outputs": [],
   "source": [
    "greeting=get_greeting(input)"
   ]
  },
  {
   "cell_type": "code",
   "execution_count": null,
   "id": "173bf058-b117-44d4-9adc-ffc516726380",
   "metadata": {},
   "outputs": [],
   "source": []
  },
  {
   "cell_type": "code",
   "execution_count": 108,
   "id": "f9269181-3827-404b-8cc6-fde2d1a1d383",
   "metadata": {},
   "outputs": [
    {
     "name": "stdout",
     "output_type": "stream",
     "text": [
      "To whom it may concern,\n",
      "Attached to this email, my resume for the position of CCO-chief clown officer\n",
      "\n",
      "I look forward to meeting you to discuss how can I be of value to your organization. \n",
      "\n",
      "Best regards,\n",
      "\n",
      "Mahmoud Gamal\n"
     ]
    }
   ],
   "source": [
    "title='CCO-chief clown officer'\n",
    "output=f'''{greeting},\n",
    "Attached to this email, my resume for the position of {title}\n",
    "\n",
    "I look forward to meeting you to discuss how can I be of value to your organization. \n",
    "\n",
    "Best regards,\n",
    "\n",
    "Mahmoud Gamal'''\n",
    "print(output)"
   ]
  },
  {
   "cell_type": "code",
   "execution_count": null,
   "id": "1e574ca8-4c16-44b9-a573-49a5bbf10358",
   "metadata": {},
   "outputs": [],
   "source": []
  },
  {
   "cell_type": "code",
   "execution_count": null,
   "id": "3a23376c-ffeb-4203-aaab-e7670cbc620f",
   "metadata": {},
   "outputs": [],
   "source": []
  },
  {
   "cell_type": "code",
   "execution_count": null,
   "id": "4ff6cea3-191e-4091-a502-38e4db56615c",
   "metadata": {},
   "outputs": [],
   "source": []
  },
  {
   "cell_type": "code",
   "execution_count": null,
   "id": "3d61ab96-2263-44ae-9aef-f244ae1741e8",
   "metadata": {},
   "outputs": [],
   "source": []
  }
 ],
 "metadata": {
  "kernelspec": {
   "display_name": "Python 3 (ipykernel)",
   "language": "python",
   "name": "python3"
  },
  "language_info": {
   "codemirror_mode": {
    "name": "ipython",
    "version": 3
   },
   "file_extension": ".py",
   "mimetype": "text/x-python",
   "name": "python",
   "nbconvert_exporter": "python",
   "pygments_lexer": "ipython3",
   "version": "3.11.7"
  },
  "widgets": {
   "application/vnd.jupyter.widget-state+json": {
    "state": {},
    "version_major": 2,
    "version_minor": 0
   }
  }
 },
 "nbformat": 4,
 "nbformat_minor": 5
}
